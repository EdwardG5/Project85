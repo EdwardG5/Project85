{
 "cells": [
  {
   "cell_type": "code",
   "execution_count": null,
   "id": "smooth-leeds",
   "metadata": {},
   "outputs": [],
   "source": [
    "import os\n",
    "import gzip\n",
    "from Bio import SeqIO\n",
    "import pandas as pd"
   ]
  },
  {
   "cell_type": "markdown",
   "id": "atmospheric-adapter",
   "metadata": {},
   "source": [
    "## Create the Reference"
   ]
  },
  {
   "cell_type": "markdown",
   "id": "distinct-ebony",
   "metadata": {},
   "source": [
    "Initial analysis"
   ]
  },
  {
   "cell_type": "code",
   "execution_count": null,
   "id": "middle-shell",
   "metadata": {},
   "outputs": [],
   "source": [
    "genome_sample = []\n",
    "f = open(\"mer50000_sample50.txt\", \"r\")\n",
    "#kmer_list = [mer_list.split(\"\\n\") for mer_list in f.read().split(\"\\n\\n\")]\n",
    "kmer_list = f.read().split(\"\\n\")\n",
    "f.close()"
   ]
  },
  {
   "cell_type": "code",
   "execution_count": null,
   "id": "suitable-budget",
   "metadata": {},
   "outputs": [],
   "source": [
    "import collections\n",
    "counter=collections.Counter(kmer_list)"
   ]
  },
  {
   "cell_type": "code",
   "execution_count": null,
   "id": "sound-lyric",
   "metadata": {},
   "outputs": [],
   "source": [
    "counter.most_common(20)"
   ]
  },
  {
   "cell_type": "code",
   "execution_count": null,
   "id": "proprietary-conclusion",
   "metadata": {},
   "outputs": [],
   "source": [
    "len(kmer_list)"
   ]
  },
  {
   "cell_type": "markdown",
   "id": "widespread-colonial",
   "metadata": {},
   "source": [
    "We study different sizes of matches in sample here to find a reference that optimizes compression (see figure)"
   ]
  },
  {
   "cell_type": "code",
   "execution_count": null,
   "id": "portuguese-begin",
   "metadata": {},
   "outputs": [],
   "source": [
    "import collections\n",
    "counter=collections.Counter([kmer for kmer in kmer_list if len(kmer) >= 7])\n",
    "counter.most_common(30)"
   ]
  },
  {
   "cell_type": "code",
   "execution_count": null,
   "id": "banner-furniture",
   "metadata": {},
   "outputs": [],
   "source": [
    "import collections\n",
    "counter=collections.Counter([kmer for kmer in kmer_list if len(kmer) >= 8])\n",
    "counter.most_common(30)"
   ]
  },
  {
   "cell_type": "code",
   "execution_count": null,
   "id": "acoustic-assumption",
   "metadata": {},
   "outputs": [],
   "source": [
    "bigs = []\n",
    "occurence_set = {}\n",
    "for x in kmer_list:\n",
    "    if len(x) > 50:\n",
    "        bigs.append(x)\n",
    "        continue\n",
    "    if x not in occurence_set:\n",
    "        occurence_set[x] = 0\n",
    "    occurence_set[x] += 1"
   ]
  },
  {
   "cell_type": "code",
   "execution_count": null,
   "id": "handmade-opposition",
   "metadata": {},
   "outputs": [],
   "source": [
    "bigs"
   ]
  },
  {
   "cell_type": "code",
   "execution_count": null,
   "id": "synthetic-deposit",
   "metadata": {},
   "outputs": [],
   "source": [
    "len(occurence_set)"
   ]
  },
  {
   "cell_type": "code",
   "execution_count": null,
   "id": "boolean-poker",
   "metadata": {},
   "outputs": [],
   "source": [
    "# Very rough adjusted calculation to account for longer k-mers in the reference giving greater\n",
    "# compression for less bits in the compressed genome. \n",
    "adj_o_set = {k:occurence_set[k] * (len(k)/6) for k in occurence_set.keys()}"
   ]
  },
  {
   "cell_type": "code",
   "execution_count": null,
   "id": "robust-blowing",
   "metadata": {},
   "outputs": [],
   "source": [
    "import collections\n",
    "counter=collections.Counter(adj_o_set)\n",
    "counter.most_common(30)"
   ]
  },
  {
   "cell_type": "code",
   "execution_count": null,
   "id": "clinical-disaster",
   "metadata": {},
   "outputs": [],
   "source": [
    "def get_reference(f_dir):\n",
    "    f = open(f_dir, 'r')\n",
    "    mers = [k for k in f.read().split(\"\\n\") if k != \"\"]\n",
    "    bit_length = int(len(mers)).bit_length() - 1\n",
    "    import itertools\n",
    "    bin_assignments = [\"\".join(seq) for seq in itertools.product(\"01\", repeat=bit_length)]\n",
    "    return {m:bin_assignments[i] for i,m in enumerate(mers)}"
   ]
  },
  {
   "cell_type": "markdown",
   "id": "anticipated-casting",
   "metadata": {},
   "source": [
    "## Benchmarking Compression with Reference"
   ]
  },
  {
   "cell_type": "markdown",
   "id": "adult-child",
   "metadata": {},
   "source": [
    "Observing test results (high occurence of 6-mers) "
   ]
  },
  {
   "cell_type": "code",
   "execution_count": null,
   "id": "japanese-locator",
   "metadata": {},
   "outputs": [],
   "source": [
    "char_dict = {\"A\": \"000\", \"C\": \"001\", \"T\":\"010\", \"G\":\"011\", \"N\":\"100\", \"-\":\"101\", \"_ref\": \"111\"}"
   ]
  },
  {
   "cell_type": "code",
   "execution_count": null,
   "id": "combined-finish",
   "metadata": {},
   "outputs": [],
   "source": [
    "reference = {\n",
    "    'GCGGCG': \"00\",\n",
    "    'CGCCGC': \"01\",\n",
    "    'GCGCCG': \"10\",\n",
    "    'GGCGGC': \"11\",\n",
    "}"
   ]
  },
  {
   "cell_type": "code",
   "execution_count": null,
   "id": "parental-linux",
   "metadata": {},
   "outputs": [],
   "source": [
    "benchmark_dict = {}"
   ]
  },
  {
   "cell_type": "code",
   "execution_count": null,
   "id": "communist-peter",
   "metadata": {},
   "outputs": [],
   "source": [
    "# k-mer length\n",
    "k = 10\n",
    "# Number of k-mers\n",
    "num = 8\n",
    "reference = get_reference(f'references/10mer_{str(num)}.txt')"
   ]
  },
  {
   "cell_type": "code",
   "execution_count": null,
   "id": "little-delicious",
   "metadata": {},
   "outputs": [],
   "source": [
    "def binarize(char):\n",
    "    return char_dict[char]"
   ]
  },
  {
   "cell_type": "code",
   "execution_count": null,
   "id": "sticky-stick",
   "metadata": {},
   "outputs": [],
   "source": [
    "def compress_regular(genome):\n",
    "    out_genome = \"\"\n",
    "    for g in genome:\n",
    "        out_genome += binarize(g)\n",
    "    return out_genome"
   ]
  },
  {
   "cell_type": "code",
   "execution_count": null,
   "id": "smaller-lindsay",
   "metadata": {},
   "outputs": [],
   "source": [
    "def compress_kmer(genome):\n",
    "    out_genome = \"\"\n",
    "    i = 0\n",
    "    while i < len(genome):\n",
    "        if genome[i:i+k] in reference:\n",
    "            out_genome += binarize(\"_ref\")\n",
    "            out_genome += reference[genome[i:i+k]]\n",
    "            i += k\n",
    "        else:\n",
    "            out_genome += binarize(genome[i])\n",
    "            i += 1\n",
    "    return out_genome"
   ]
  },
  {
   "cell_type": "code",
   "execution_count": null,
   "id": "incident-people",
   "metadata": {},
   "outputs": [],
   "source": [
    "def pct_compression(df):\n",
    "    return ((df['compress_regular_new_len'] - df['compress_kmer_new_len']) / df['compress_regular_new_len'] * 100).to_frame('pct_compression')"
   ]
  },
  {
   "cell_type": "code",
   "execution_count": null,
   "id": "processed-bhutan",
   "metadata": {},
   "outputs": [],
   "source": [
    "from data_process import *"
   ]
  },
  {
   "cell_type": "code",
   "execution_count": null,
   "id": "final-amsterdam",
   "metadata": {},
   "outputs": [],
   "source": [
    "df = benchmark_functions([compress_regular, compress_kmer], dataset=\"10bacteria\", sample=None)"
   ]
  },
  {
   "cell_type": "code",
   "execution_count": null,
   "id": "minimal-blast",
   "metadata": {},
   "outputs": [],
   "source": [
    "benchmark_dict[num] = pct_compression(df)"
   ]
  },
  {
   "cell_type": "code",
   "execution_count": null,
   "id": "present-charlotte",
   "metadata": {},
   "outputs": [],
   "source": [
    "to_plot = []\n",
    "for n in [64,32,16,8,4]:\n",
    "    to_plot.append((str(n), benchmark_dict[n]['pct_compression'].mean()))\n",
    "pd.DataFrame(to_plot, columns=['no. references', 'pct compression'])[::-1].plot(kind='bar', x='no. references', y='pct compression', title=\"10-mer avg. reference compression, n = 10\")"
   ]
  },
  {
   "cell_type": "code",
   "execution_count": null,
   "id": "under-delay",
   "metadata": {},
   "outputs": [],
   "source": [
    "df[[c for c in df.columns if 'new_len' in c]].head()"
   ]
  },
  {
   "cell_type": "code",
   "execution_count": null,
   "id": "integral-pierre",
   "metadata": {},
   "outputs": [],
   "source": []
  }
 ],
 "metadata": {
  "kernelspec": {
   "display_name": "base_python3",
   "language": "python",
   "name": "base_python3"
  },
  "language_info": {
   "codemirror_mode": {
    "name": "ipython",
    "version": 3
   },
   "file_extension": ".py",
   "mimetype": "text/x-python",
   "name": "python",
   "nbconvert_exporter": "python",
   "pygments_lexer": "ipython3",
   "version": "3.8.5"
  }
 },
 "nbformat": 4,
 "nbformat_minor": 5
}
