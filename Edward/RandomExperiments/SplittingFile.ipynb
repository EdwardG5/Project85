{
 "cells": [
  {
   "cell_type": "code",
   "execution_count": 1,
   "metadata": {},
   "outputs": [],
   "source": [
    "import Bio\n",
    "from Bio import SeqIO"
   ]
  },
  {
   "cell_type": "code",
   "execution_count": 6,
   "metadata": {},
   "outputs": [],
   "source": [
    "genomeData = \"GenomicData/85k_COVID_Genomes.fna\""
   ]
  },
  {
   "cell_type": "code",
   "execution_count": 7,
   "metadata": {},
   "outputs": [],
   "source": [
    "f = list(SeqIO.parse(genomeData, \"fasta\"))"
   ]
  },
  {
   "cell_type": "code",
   "execution_count": 15,
   "metadata": {},
   "outputs": [],
   "source": [
    "a10 = \"0-10k_genomes.fna\"\n",
    "b10 = \"10-20k_genomes.fna\"\n",
    "c10 = \"20-30k_genomes.fna\"\n",
    "d10 = \"30-40k_genomes.fna\"\n",
    "e10 = \"40-50k_genomes.fna\"\n",
    "f10 = \"50-60k_genomes.fna\"\n",
    "g10 = \"60-70k_genomes.fna\"\n",
    "h10 = \"70-80k_genomes.fna\"\n",
    "i10 = \"80-90k_genomes.fna\"\n",
    "fileNames = [a10, b10, c10, d10, e10, f10, g10, h10, i10]"
   ]
  },
  {
   "cell_type": "code",
   "execution_count": 18,
   "metadata": {},
   "outputs": [],
   "source": [
    "# SeqIO.write(my_records, \"my_example.faa\", \"fasta\")\n",
    "starts = range(9)"
   ]
  },
  {
   "cell_type": "code",
   "execution_count": 21,
   "metadata": {},
   "outputs": [],
   "source": [
    "def writeToFile(i):\n",
    "    part = f[i*10000:i*10000+10000]\n",
    "    fileName = fileNames[i]\n",
    "    SeqIO.write(part, fileName, \"fasta\")"
   ]
  },
  {
   "cell_type": "code",
   "execution_count": 22,
   "metadata": {},
   "outputs": [
    {
     "data": {
      "text/plain": [
       "[None, None, None, None, None, None, None, None, None]"
      ]
     },
     "execution_count": 22,
     "metadata": {},
     "output_type": "execute_result"
    }
   ],
   "source": [
    "list(map(writeToFile, starts))"
   ]
  },
  {
   "cell_type": "code",
   "execution_count": null,
   "metadata": {},
   "outputs": [],
   "source": []
  }
 ],
 "metadata": {
  "kernelspec": {
   "display_name": "Python 3",
   "language": "python",
   "name": "python3"
  },
  "language_info": {
   "codemirror_mode": {
    "name": "ipython",
    "version": 3
   },
   "file_extension": ".py",
   "mimetype": "text/x-python",
   "name": "python",
   "nbconvert_exporter": "python",
   "pygments_lexer": "ipython3",
   "version": "3.8.5"
  }
 },
 "nbformat": 4,
 "nbformat_minor": 4
}
