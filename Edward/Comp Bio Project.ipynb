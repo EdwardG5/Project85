{
 "cells": [
  {
   "cell_type": "code",
   "execution_count": null,
   "metadata": {},
   "outputs": [],
   "source": [
    "import Bio\n",
    "from Bio import SeqIO\n",
    "import numpy as np\n",
    "import pandas as pd\n",
    "import matplotlib.pyplot as plt\n",
    "from collections import Counter\n",
    "import time"
   ]
  },
  {
   "cell_type": "code",
   "execution_count": null,
   "metadata": {},
   "outputs": [],
   "source": [
    "genomeData = \"/Users/Edward/Downloads/Comp Bio Project Data/ncbi_datasets/ncbi_dataset/data/genomic.fna\"\n",
    "genomeMetaData = \"\"\n",
    "referencePath = \"/Users/Edward/Downloads/Comp Bio Project Data/ncbi_datasets/ncbi_dataset/data/reference.fna\""
   ]
  },
  {
   "cell_type": "code",
   "execution_count": null,
   "metadata": {},
   "outputs": [],
   "source": [
    "f = list(SeqIO.parse(genomeData, \"fasta\"))"
   ]
  },
  {
   "cell_type": "code",
   "execution_count": null,
   "metadata": {},
   "outputs": [],
   "source": [
    "reference = next(SeqIO.parse(referencePath, \"fasta\"))\n",
    "reference"
   ]
  },
  {
   "cell_type": "code",
   "execution_count": null,
   "metadata": {},
   "outputs": [],
   "source": [
    "first10 = f[:10]"
   ]
  },
  {
   "cell_type": "code",
   "execution_count": null,
   "metadata": {},
   "outputs": [],
   "source": [
    "list(map(Counter, first10))"
   ]
  },
  {
   "cell_type": "code",
   "execution_count": null,
   "metadata": {},
   "outputs": [],
   "source": [
    "list(map(len, first10))"
   ]
  },
  {
   "cell_type": "code",
   "execution_count": null,
   "metadata": {},
   "outputs": [],
   "source": [
    "def timeFunction(message, f):\n",
    "    timeStart = time.time()\n",
    "    f()\n",
    "    timeEnd = time.time()\n",
    "    took = round(timeEnd-timeStart, 2)\n",
    "    print(message(took))\n",
    "    \n",
    "# Test case\n",
    "timeFunction(lambda t: f\"Took {t} seconds\", lambda: [1+1 for _ in range(10000000)])"
   ]
  },
  {
   "cell_type": "code",
   "execution_count": null,
   "metadata": {},
   "outputs": [],
   "source": [
    "# SeqIO.write(subset, \"first10.fna\", \"fasta\")"
   ]
  },
  {
   "cell_type": "code",
   "execution_count": null,
   "metadata": {},
   "outputs": [],
   "source": [
    "# from io import StringIO\n",
    "# handle = StringIO()\n",
    "# SeqIO.write(subset, handle, \"fasta\")\n",
    "# data = handle.getvalue()"
   ]
  },
  {
   "cell_type": "code",
   "execution_count": null,
   "metadata": {},
   "outputs": [],
   "source": [
    "# from Bio.Align.Applications import ClustalOmegaCommandline as COCL\n",
    "# help(COCL)\n",
    "# in_file = \"first10.fna\"\n",
    "# out_file = \"aligned.fasta\"\n",
    "# co_cline = COCL(infile=in_file, outfile=out_file, verbose=True, auto=True)\n",
    "# print(co_cline)\n",
    "# stdout, stderr=co_cline()\n",
    "# stdout"
   ]
  },
  {
   "cell_type": "code",
   "execution_count": null,
   "metadata": {},
   "outputs": [],
   "source": [
    "from Bio import Align\n",
    "aligner = Align.PairwiseAligner()"
   ]
  },
  {
   "cell_type": "code",
   "execution_count": null,
   "metadata": {},
   "outputs": [],
   "source": [
    "# https://www.ebi.ac.uk/seqdb/confluence/display/JDSAT/EMBOSS+Needle+Help+and+Documentation\n",
    "# There is apparently no consensus on what the best DNA scoring matrix is. \n",
    "# DNAFull is apparently a common one. +5 for match, -4 for mismatch, -10 for gap opening, -0.5 for gap extension\n",
    "# http://biopython.org/DIST/docs/tutorial/Tutorial.html#sec%3Apairwise-affine-gapscores\n",
    "# See 6.6.2.5, table 6.1\n",
    "# You can modify the scores for the upper and lower sequences individually. May be useful.\n",
    "\n",
    "from Bio.Align import substitution_matrices as sm\n",
    "# get possible names via sm.load(). Alternatively see github: https://github.com/biopython/biopython/tree/master/Bio/Align/substitution_matrices/data\n",
    "\n",
    "# We use a modified version of DNAFull, with extension penalties of -2. This is to ensure that gaps aren't favored \n",
    "# over matching Ns. \n",
    "\n",
    "aligner.substitution_matrix = sm.load(\"NUC.4.4\")\n",
    "aligner.open_gap_score = -10\n",
    "aligner.extend_gap_score = -2"
   ]
  },
  {
   "cell_type": "code",
   "execution_count": null,
   "metadata": {},
   "outputs": [],
   "source": [
    "def align(dna):\n",
    "    output = format(aligner.align(reference.seq, dna)[0])\n",
    "    l = len(output)//3\n",
    "    referenceAligned = output[:l-1]\n",
    "    dnaAligned = output[2*l:3*l-1]\n",
    "    return (referenceAligned, dnaAligned)"
   ]
  },
  {
   "cell_type": "code",
   "execution_count": null,
   "metadata": {},
   "outputs": [],
   "source": [
    "def getInsertions(refAligned, dnaAligned):\n",
    "    indels = []\n",
    "    while \"-\" in refAligned:\n",
    "        start = refAligned.index(\"-\")\n",
    "        end = start\n",
    "        while end < len(refAligned) and refAligned[end] == \"-\":\n",
    "            end += 1\n",
    "        refAligned = refAligned[:start]+refAligned[end:]\n",
    "        insert = dnaAligned[start:end]\n",
    "        dnaAligned = dnaAligned[:start]+dnaAligned[end:]\n",
    "        indels.append((start, insert))\n",
    "    return (refAligned, dnaAligned, indels)"
   ]
  },
  {
   "cell_type": "code",
   "execution_count": null,
   "metadata": {},
   "outputs": [],
   "source": [
    "def getDeletions(refAligned, dnaAligned):\n",
    "    indels = []\n",
    "    while \"-\" in dnaAligned:\n",
    "        start = dnaAligned.index(\"-\")\n",
    "        end = start\n",
    "        while end < len(dnaAligned) and dnaAligned[end] == \"-\":\n",
    "            end += 1\n",
    "        insert = refAligned[start:end]\n",
    "        dnaAligned = dnaAligned[:start]+insert+dnaAligned[end:]\n",
    "        indels.append((start, len(insert)))\n",
    "    return (dnaAligned, indels)"
   ]
  },
  {
   "cell_type": "code",
   "execution_count": null,
   "metadata": {},
   "outputs": [],
   "source": [
    "assert(getDeletions(\"AAATTTGGG\", \"AAA---GGG\") == (\"AAATTTGGG\", [(3, 3)]))"
   ]
  },
  {
   "cell_type": "code",
   "execution_count": null,
   "metadata": {},
   "outputs": [],
   "source": [
    "def replaceNs(refAligned, dnaAligned):\n",
    "    indels = []\n",
    "    while \"N\" in dnaAligned:\n",
    "        start = dnaAligned.index(\"N\")\n",
    "        end = start\n",
    "        while end < len(dnaAligned) and dnaAligned[end] == \"N\":\n",
    "            end += 1\n",
    "        insert = refAligned[start:end]\n",
    "        dnaAligned = dnaAligned[:start]+insert+dnaAligned[end:]\n",
    "        indels.append((start, len(insert)))\n",
    "    return (dnaAligned, indels)"
   ]
  },
  {
   "cell_type": "code",
   "execution_count": null,
   "metadata": {},
   "outputs": [],
   "source": [
    "assert(replaceNs(\"AAATTTGGG\", \"AAANNNGGG\") == (\"AAATTTGGG\", [(3, 3)]))"
   ]
  },
  {
   "cell_type": "code",
   "execution_count": null,
   "metadata": {},
   "outputs": [],
   "source": [
    "def replaceOthers(refAligned, dnaAligned):\n",
    "    indels = []\n",
    "    dnaAligned = list(dnaAligned)\n",
    "    for i in range(len(dnaAligned)):\n",
    "        if dnaAligned[i] not in [\"A\", \"C\", \"T\", \"G\"]:\n",
    "            indels.append((i, dnaAligned[i]))\n",
    "            dnaAligned[i] = refAligned[i]\n",
    "    dnaAligned = \"\".join(dnaAligned)\n",
    "    return (dnaAligned, indels)"
   ]
  },
  {
   "cell_type": "code",
   "execution_count": null,
   "metadata": {},
   "outputs": [],
   "source": [
    "def getMismatches(refAligned, dnaAligned):\n",
    "    mismatches = []\n",
    "    for i in range(len(dnaAligned)):\n",
    "        if dnaAligned[i] != refAligned[i]:\n",
    "            mismatches.append((i, dnaAligned[i]))\n",
    "    return mismatches\n",
    "\n",
    "assert(getMismatches(\"AAACCC\", \"ATACTC\") == [(1, \"T\"), (4, \"T\")])"
   ]
  },
  {
   "cell_type": "code",
   "execution_count": null,
   "metadata": {},
   "outputs": [],
   "source": [
    "assert(replaceOthers(\"AAACCC\", \"AYACMC\") == (\"AAACCC\", [(1, \"Y\"), (4, \"M\")]))"
   ]
  },
  {
   "cell_type": "code",
   "execution_count": null,
   "metadata": {},
   "outputs": [],
   "source": [
    "data = f[:100]"
   ]
  },
  {
   "cell_type": "code",
   "execution_count": null,
   "metadata": {},
   "outputs": [],
   "source": [
    "alignedData = map(lambda x: align(reference, x), data)"
   ]
  },
  {
   "cell_type": "code",
   "execution_count": null,
   "metadata": {},
   "outputs": [],
   "source": [
    "def main(n):\n",
    "    data = f[:n]\n",
    "    def transform(x):\n",
    "        refAligned, dnaAligned = align(x.seq)\n",
    "        refAligned, dnaAligned, insertions = getInsertions(refAligned, dnaAligned)\n",
    "        dnaAligned, deletions = getDeletions(refAligned, dnaAligned)\n",
    "        dnaAligned, ns = replaceNs(refAligned, dnaAligned)\n",
    "        dnaAligned, others = replaceOthers(refAligned, dnaAligned)\n",
    "        mismatches = getMismatches(refAligned, dnaAligned)\n",
    "        return (insertions, deletions, ns, others, mismatches)\n",
    "    return list(map(transform, data))"
   ]
  },
  {
   "cell_type": "code",
   "execution_count": null,
   "metadata": {},
   "outputs": [],
   "source": [
    "r = main()"
   ]
  },
  {
   "cell_type": "code",
   "execution_count": null,
   "metadata": {},
   "outputs": [],
   "source": [
    "r"
   ]
  },
  {
   "cell_type": "code",
   "execution_count": null,
   "metadata": {},
   "outputs": [],
   "source": [
    "def redoInsertions(dna, insertions):\n",
    "    if insertions == []:\n",
    "        return dna\n",
    "    else:\n",
    "        (position, s) = insertions.pop()\n",
    "        before, after = dna[:position], dna[position:]\n",
    "        rec = redoInsertions(before, insertions)\n",
    "        return rec+list(s)+after"
   ]
  },
  {
   "cell_type": "code",
   "execution_count": null,
   "metadata": {},
   "outputs": [],
   "source": [
    "assert(redoInsertions(list(\"ACAACA---\"), [(3, \"AAA\")]) == list(\"ACAAAAACA---\"))"
   ]
  },
  {
   "cell_type": "code",
   "execution_count": null,
   "metadata": {},
   "outputs": [],
   "source": [
    "first = r[0]"
   ]
  },
  {
   "cell_type": "code",
   "execution_count": null,
   "metadata": {},
   "outputs": [],
   "source": [
    "def decodeString(reference, insertions, deletions, ns, others, mismatches):\n",
    "    reference = list(reference)\n",
    "    dna = list(reference)\n",
    "    # Insert the mismatches\n",
    "    for (i, l) in mismatches:\n",
    "        dna[i] = l\n",
    "    # Replace the strange characters\n",
    "    for (i, l) in others:\n",
    "        dna[i] = l\n",
    "    # Replace the Ns\n",
    "    for (startingPosition, length) in ns:\n",
    "        dna[startingPosition:startingPosition+length] = [\"N\" for _ in range(length)]\n",
    "    # Delete the inserted parts\n",
    "    for (startingPosition, length) in deletions:\n",
    "        dna[startingPosition:startingPosition+length] = [\"-\" for _ in range(length)]\n",
    "    # Fix the insertions\n",
    "    dna = redoInsertions(dna, insertions)\n",
    "    # Now remove the \"-\"s. \n",
    "    dna = filter(lambda x: x != \"-\", dna)\n",
    "    # Done : ). \n",
    "    return \"\".join(dna)"
   ]
  },
  {
   "cell_type": "code",
   "execution_count": null,
   "metadata": {},
   "outputs": [],
   "source": [
    "str(f[9].seq) == decodeString(reference, *r[9])"
   ]
  },
  {
   "cell_type": "code",
   "execution_count": null,
   "metadata": {},
   "outputs": [],
   "source": []
  },
  {
   "cell_type": "code",
   "execution_count": null,
   "metadata": {},
   "outputs": [],
   "source": [
    "for x in r:\n",
    "    print(f\"Insertions: {len(x[0])}, Deletions: {len(x[1])}, Ns: {len(x[2])}, Others: {len(x[3])}, Mismatches: {len(x[4])}\")"
   ]
  },
  {
   "cell_type": "code",
   "execution_count": null,
   "metadata": {},
   "outputs": [],
   "source": [
    "rLs = list(map(lambda x: sum([len(y) for y in x]), r))"
   ]
  },
  {
   "cell_type": "code",
   "execution_count": null,
   "metadata": {},
   "outputs": [],
   "source": [
    "sum(rLs)"
   ]
  },
  {
   "cell_type": "code",
   "execution_count": null,
   "metadata": {},
   "outputs": [],
   "source": [
    "insertions = list(map(lambda x: x[0], r))"
   ]
  },
  {
   "cell_type": "code",
   "execution_count": null,
   "metadata": {},
   "outputs": [],
   "source": [
    "insertions"
   ]
  },
  {
   "cell_type": "code",
   "execution_count": null,
   "metadata": {},
   "outputs": [],
   "source": [
    "r[0]"
   ]
  },
  {
   "cell_type": "code",
   "execution_count": null,
   "metadata": {},
   "outputs": [],
   "source": [
    "charDict = {\"A\": \"00\", \"C\": \"01\", \"T\":\"10\", \"G\":\"11\"}\n",
    "inverseDict = {v: k for k, v in charDict.items()}\n",
    "\n",
    "# char -> binaryString\n",
    "def encodeChar(c):\n",
    "    return charDict[c]\n",
    "\n",
    "# binaryString -> (char, rest of the string)\n",
    "def decodeChar(binaryString):\n",
    "    b = binaryString[:2]\n",
    "    return (inverseDict[b], binaryString[2:])\n",
    "\n",
    "# Test cases\n",
    "# Unecessary\n",
    "\n",
    "# Input: (number, how many bits to use), \n",
    "# Output: The number in binary format, with leading 0s such that length == bits\n",
    "def encodeNumber(n, bits):\n",
    "    return bin(n)[2:].rjust(bits, \"0\")\n",
    "\n",
    "# Input: binary string * the number of bits used for number, output (position, rest)\n",
    "def decodeNumber(binaryString, bits):\n",
    "    b = binaryString[:bits]\n",
    "    return (int(b, 2), binaryString[bits:])"
   ]
  },
  {
   "cell_type": "code",
   "execution_count": null,
   "metadata": {},
   "outputs": [],
   "source": [
    "def encodeInsertions(insertions):\n",
    "    # TODO FIX this is a hyperparameter based on an upper length of 2^15 = 32000 (suitable for COVID)\n",
    "    bits = 15\n",
    "    eN = lambda n: encodeNumber(n, bits)\n",
    "    s = \"\"\n",
    "    if len(insertions) > 0:\n",
    "        s += \"1\"\n",
    "        s += eN(len(insertions)) # Number of insertions\n",
    "        for (position, insert) in insertions:\n",
    "            s += eN(position)\n",
    "            s += eN(len(insert))\n",
    "            # Note: This next step assumes that the insert is composed of ACTG. I just realised that because I called getInsertions before I did getOthers,\n",
    "            # this may not necessarily be true.\n",
    "            # FIX / TODO\n",
    "            insertInBinary = \"\".join(map(lambda x: encodeChar(x), list(insert)))\n",
    "            s += insertInBinary\n",
    "    else:\n",
    "        s += \"0\"\n",
    "    return s\n",
    "\n",
    "def encodeDeletions(deletions):\n",
    "    # TODO FIX this is a hyperparameter based on an upper length of 2^15 = 32000 (suitable for COVID)\n",
    "    bits = 15\n",
    "    eN = lambda n: encodeNumber(n, bits)\n",
    "    s = \"\"\n",
    "    if len(deletions) > 0:\n",
    "        s += \"1\"\n",
    "        s += eN(len(deletions)) # Number of deletions\n",
    "        for (position, length) in deletions:\n",
    "            s += eN(position)\n",
    "            s += eN(length)\n",
    "    else:\n",
    "        s += \"0\"\n",
    "    return s\n",
    "\n",
    "def encodeNs(ns):\n",
    "    # TODO FIX this is a hyperparameter based on an upper length of 2^15 = 32000 (suitable for COVID)\n",
    "    bits = 15\n",
    "    eN = lambda n: encodeNumber(n, bits)\n",
    "    s = \"\"\n",
    "    if len(ns) > 0:\n",
    "        s += \"1\"\n",
    "        s += eN(len(ns)) # Number of insertions\n",
    "        for (position, length) in ns:\n",
    "            s += eN(position)\n",
    "            s += eN(length)\n",
    "    else:\n",
    "        s += \"0\"\n",
    "    return s\n",
    "\n",
    "def encodeOthers(others):\n",
    "    # TODO FIX this is a hyperparameter based on an upper length of 2^15 = 32000 (suitable for COVID)\n",
    "    bits = 15\n",
    "    eN = lambda n: encodeNumber(n, bits)\n",
    "    s = \"\"\n",
    "    if len(others) > 0:\n",
    "        s += \"1\"\n",
    "        s += eN(len(others)) # Number of insertions\n",
    "        for (position, c) in others:\n",
    "            s += eN(position)\n",
    "            s += encodeNumber(ord(c), 8) # i.e. encode Y in ascii binary (can do this more efficiently but don't think it matters)\n",
    "    else:\n",
    "        s += \"0\"\n",
    "    return s\n",
    "\n",
    "def encodeMismatches(mismatches):\n",
    "    # TODO FIX this is a hyperparameter based on an upper length of 2^15 = 32000 (suitable for COVID)\n",
    "    bits = 15\n",
    "    eN = lambda n: encodeNumber(n, bits)\n",
    "    s = \"\"\n",
    "    if len(mismatches) > 0:\n",
    "        s += \"1\"\n",
    "        s += eN(len(mismatches)) # Number of insertions\n",
    "        for (position, c) in mismatches:\n",
    "            s += eN(position)\n",
    "            s += encodeChar(c)\n",
    "    else:\n",
    "        s += \"0\"\n",
    "    return s"
   ]
  },
  {
   "cell_type": "code",
   "execution_count": null,
   "metadata": {},
   "outputs": [],
   "source": [
    "encodeInfo(r[0])"
   ]
  },
  {
   "cell_type": "code",
   "execution_count": null,
   "metadata": {},
   "outputs": [],
   "source": [
    "len(encodeInfo(r[0]))"
   ]
  },
  {
   "cell_type": "code",
   "execution_count": null,
   "metadata": {},
   "outputs": [],
   "source": [
    "sum(list(map(lambda x: len(encodeInfo(x)), r)))"
   ]
  },
  {
   "cell_type": "code",
   "execution_count": null,
   "metadata": {},
   "outputs": [],
   "source": [
    "sum(map(len, f[:100]))"
   ]
  },
  {
   "cell_type": "code",
   "execution_count": null,
   "metadata": {},
   "outputs": [],
   "source": [
    "28465/(2957317*8)"
   ]
  },
  {
   "cell_type": "code",
   "execution_count": null,
   "metadata": {},
   "outputs": [],
   "source": [
    "1/0.001203159823583336"
   ]
  },
  {
   "cell_type": "code",
   "execution_count": null,
   "metadata": {},
   "outputs": [],
   "source": [
    "list(map(lambda x: str(x[4]), r))"
   ]
  },
  {
   "cell_type": "code",
   "execution_count": null,
   "metadata": {},
   "outputs": [],
   "source": [
    "def flatten(regular_list):\n",
    "    return [item for sublist in regular_list for item in sublist]"
   ]
  },
  {
   "cell_type": "code",
   "execution_count": null,
   "metadata": {},
   "outputs": [],
   "source": [
    "mismatchPositions = list(map(lambda x: x[0], flatten(list(map(lambda x: x[4], r)))))"
   ]
  },
  {
   "cell_type": "code",
   "execution_count": null,
   "metadata": {},
   "outputs": [],
   "source": [
    "freq = sorted(list(Counter(mismatchPositions).values()))"
   ]
  },
  {
   "cell_type": "code",
   "execution_count": null,
   "metadata": {},
   "outputs": [],
   "source": [
    "len(freq)"
   ]
  },
  {
   "cell_type": "code",
   "execution_count": null,
   "metadata": {},
   "outputs": [],
   "source": [
    "sum(freq)"
   ]
  },
  {
   "cell_type": "code",
   "execution_count": null,
   "metadata": {},
   "outputs": [],
   "source": [
    "freq[-40:]"
   ]
  },
  {
   "cell_type": "code",
   "execution_count": null,
   "metadata": {},
   "outputs": [],
   "source": [
    "%prun aligner.align(reference.seq+reference.seq, f[0].seq+f[0].seq)\n",
    "# %prun main(1)"
   ]
  },
  {
   "cell_type": "code",
   "execution_count": null,
   "metadata": {},
   "outputs": [],
   "source": [
    "result = aligner.align(reference.seq+reference.seq, f[0].seq+f[0].seq)"
   ]
  },
  {
   "cell_type": "code",
   "execution_count": null,
   "metadata": {},
   "outputs": [],
   "source": [
    "len(result)"
   ]
  },
  {
   "cell_type": "code",
   "execution_count": null,
   "metadata": {},
   "outputs": [],
   "source": [
    "print(\"hello\")"
   ]
  },
  {
   "cell_type": "code",
   "execution_count": null,
   "metadata": {},
   "outputs": [],
   "source": [
    "print(\"hello\")"
   ]
  },
  {
   "cell_type": "code",
   "execution_count": null,
   "metadata": {},
   "outputs": [],
   "source": [
    "from Bio import pairwise2\n",
    "pairwise2.align.globalds(\"ACCCCA\", \"ACCCCCC\", aligner.substitution_matrix, -10, -2, one_alignment_only=True)"
   ]
  },
  {
   "cell_type": "code",
   "execution_count": null,
   "metadata": {},
   "outputs": [],
   "source": [
    "b = bytes(b'01101')"
   ]
  },
  {
   "cell_type": "code",
   "execution_count": null,
   "metadata": {},
   "outputs": [],
   "source": [
    "type(b)"
   ]
  },
  {
   "cell_type": "code",
   "execution_count": null,
   "metadata": {},
   "outputs": [],
   "source": [
    "type(bin(98))"
   ]
  },
  {
   "cell_type": "code",
   "execution_count": null,
   "metadata": {},
   "outputs": [],
   "source": []
  },
  {
   "cell_type": "code",
   "execution_count": null,
   "metadata": {},
   "outputs": [],
   "source": [
    "import io\n",
    "io.BytesIO"
   ]
  },
  {
   "cell_type": "code",
   "execution_count": null,
   "metadata": {},
   "outputs": [],
   "source": [
    "f = open(\"ZZZZtempfile.bin\", \"wb\")"
   ]
  },
  {
   "cell_type": "code",
   "execution_count": null,
   "metadata": {},
   "outputs": [],
   "source": [
    "f.write(bytes(1))"
   ]
  },
  {
   "cell_type": "code",
   "execution_count": null,
   "metadata": {},
   "outputs": [],
   "source": [
    "f.close()"
   ]
  },
  {
   "cell_type": "code",
   "execution_count": null,
   "metadata": {},
   "outputs": [],
   "source": [
    "f = open(\"ZZZZtempfile.bin\", \"rb\")"
   ]
  },
  {
   "cell_type": "code",
   "execution_count": null,
   "metadata": {},
   "outputs": [],
   "source": [
    "b = f.read()"
   ]
  },
  {
   "cell_type": "code",
   "execution_count": null,
   "metadata": {},
   "outputs": [],
   "source": [
    "b"
   ]
  },
  {
   "cell_type": "code",
   "execution_count": null,
   "metadata": {},
   "outputs": [],
   "source": [
    "len(b\"11\")"
   ]
  },
  {
   "cell_type": "code",
   "execution_count": null,
   "metadata": {},
   "outputs": [],
   "source": [
    "int(\"111\", 2)"
   ]
  },
  {
   "cell_type": "code",
   "execution_count": null,
   "metadata": {},
   "outputs": [],
   "source": [
    "5.to_bytes(1, byteorder=\"big\", signed=False)"
   ]
  },
  {
   "cell_type": "code",
   "execution_count": null,
   "metadata": {},
   "outputs": [],
   "source": [
    "len(bytes(b'\\b00101011\\x02'))"
   ]
  },
  {
   "cell_type": "code",
   "execution_count": null,
   "metadata": {},
   "outputs": [],
   "source": [
    "l = range(1000000)\n",
    "%timeit list(map(lambda x: x**2, l))"
   ]
  },
  {
   "cell_type": "code",
   "execution_count": null,
   "metadata": {},
   "outputs": [],
   "source": [
    "from multiprocessing import Pool\n",
    "import math\n",
    "\n",
    "l = list(range(5))\n",
    "\n",
    "def square(x):\n",
    "    l = list(range(500))\n",
    "    for i in range(len(l)):\n",
    "        l[i] = i**2\n",
    "    return sum(l)\n",
    "\n",
    "# list(map(square, l))\n",
    "\n",
    "# with Pool() as P:\n",
    "#     P.map(square, l)\n",
    "\n",
    "def f(x):\n",
    "    print(\"f called\")\n",
    "    for i in range(10):\n",
    "        x = x * x\n",
    "    return x"
   ]
  },
  {
   "cell_type": "code",
   "execution_count": null,
   "metadata": {},
   "outputs": [],
   "source": [
    "if __name__ == \"__main__\":\n",
    "    print(\"Hello\")\n",
    "    Pool().map(f, [1, 2, 3])"
   ]
  },
  {
   "cell_type": "code",
   "execution_count": null,
   "metadata": {},
   "outputs": [],
   "source": [
    "getInfoFromString"
   ]
  },
  {
   "cell_type": "code",
   "execution_count": null,
   "metadata": {},
   "outputs": [],
   "source": [
    "main()"
   ]
  },
  {
   "cell_type": "code",
   "execution_count": null,
   "metadata": {},
   "outputs": [],
   "source": []
  }
 ],
 "metadata": {
  "kernelspec": {
   "display_name": "Python 3",
   "language": "python",
   "name": "python3"
  },
  "language_info": {
   "codemirror_mode": {
    "name": "ipython",
    "version": 3
   },
   "file_extension": ".py",
   "mimetype": "text/x-python",
   "name": "python",
   "nbconvert_exporter": "python",
   "pygments_lexer": "ipython3",
   "version": "3.8.5"
  }
 },
 "nbformat": 4,
 "nbformat_minor": 4
}
