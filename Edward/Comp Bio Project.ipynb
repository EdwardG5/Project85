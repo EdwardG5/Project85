{
 "cells": [
  {
   "cell_type": "code",
   "execution_count": 2,
   "metadata": {},
   "outputs": [],
   "source": [
    "import Bio\n",
    "from Bio import SeqIO\n",
    "import numpy as np\n",
    "import pandas as pd\n",
    "import matplotlib.pyplot as plt\n",
    "from collections import Counter\n",
    "import time"
   ]
  },
  {
   "cell_type": "code",
   "execution_count": 7,
   "metadata": {},
   "outputs": [],
   "source": [
    "genomeData = \"GenomicData/0-10k_genomes.fna\"\n",
    "genomeMetaData = \"\"\n",
    "referencePath = \"GenomicData/COVID_Reference_Genome.fna\""
   ]
  },
  {
   "cell_type": "code",
   "execution_count": 8,
   "metadata": {},
   "outputs": [],
   "source": [
    "f = list(SeqIO.parse(genomeData, \"fasta\"))"
   ]
  },
  {
   "cell_type": "code",
   "execution_count": 9,
   "metadata": {},
   "outputs": [
    {
     "data": {
      "text/plain": [
       "SeqRecord(seq=Seq('ATTAAAGGTTTATACCTTCCCAGGTAACAAACCAACCAACTTTCGATCTCTTGT...AAA'), id='NC_045512.2', name='NC_045512.2', description='NC_045512.2 Severe acute respiratory syndrome coronavirus 2 isolate Wuhan-Hu-1, complete genome', dbxrefs=[])"
      ]
     },
     "execution_count": 9,
     "metadata": {},
     "output_type": "execute_result"
    }
   ],
   "source": [
    "reference = next(SeqIO.parse(referencePath, \"fasta\"))\n",
    "reference"
   ]
  },
  {
   "cell_type": "code",
   "execution_count": 10,
   "metadata": {},
   "outputs": [],
   "source": [
    "first10 = f[:10]"
   ]
  },
  {
   "cell_type": "code",
   "execution_count": 11,
   "metadata": {},
   "outputs": [
    {
     "data": {
      "text/plain": [
       "[Counter({'A': 8811,\n",
       "          'G': 5787,\n",
       "          'T': 9460,\n",
       "          'C': 5417,\n",
       "          'Y': 9,\n",
       "          'W': 1,\n",
       "          'N': 295,\n",
       "          'K': 2}),\n",
       " Counter({'A': 8893,\n",
       "          'G': 5847,\n",
       "          'T': 9563,\n",
       "          'C': 5461,\n",
       "          'Y': 11,\n",
       "          'W': 1,\n",
       "          'K': 2,\n",
       "          'M': 2,\n",
       "          'R': 2}),\n",
       " Counter({'A': 8218, 'G': 5382, 'T': 8799, 'C': 5070, 'N': 2313}),\n",
       " Counter({'A': 8850,\n",
       "          'G': 5823,\n",
       "          'T': 9516,\n",
       "          'C': 5446,\n",
       "          'Y': 9,\n",
       "          'K': 3,\n",
       "          'N': 132,\n",
       "          'R': 2,\n",
       "          'W': 1}),\n",
       " Counter({'N': 2042, 'A': 8329, 'G': 5495, 'T': 8913, 'C': 5124}),\n",
       " Counter({'A': 8954, 'T': 9596, 'G': 5863, 'C': 5490}),\n",
       " Counter({'C': 5492, 'T': 9589, 'A': 8948, 'G': 5859}),\n",
       " Counter({'G': 653, 'C': 538, 'T': 852, 'A': 816}),\n",
       " Counter({'N': 22627, 'T': 2264, 'A': 2216, 'G': 1396, 'C': 1283}),\n",
       " Counter({'C': 5473, 'G': 5848, 'A': 8887, 'T': 9562})]"
      ]
     },
     "execution_count": 11,
     "metadata": {},
     "output_type": "execute_result"
    }
   ],
   "source": [
    "list(map(Counter, first10))"
   ]
  },
  {
   "cell_type": "code",
   "execution_count": 12,
   "metadata": {},
   "outputs": [
    {
     "data": {
      "text/plain": [
       "[29782, 29782, 29782, 29782, 29903, 29903, 29888, 2859, 29786, 29770]"
      ]
     },
     "execution_count": 12,
     "metadata": {},
     "output_type": "execute_result"
    }
   ],
   "source": [
    "list(map(len, first10))"
   ]
  },
  {
   "cell_type": "code",
   "execution_count": 13,
   "metadata": {},
   "outputs": [
    {
     "name": "stdout",
     "output_type": "stream",
     "text": [
      "Took 0.66 seconds\n"
     ]
    }
   ],
   "source": [
    "def timeFunction(message, f):\n",
    "    timeStart = time.time()\n",
    "    f()\n",
    "    timeEnd = time.time()\n",
    "    took = round(timeEnd-timeStart, 2)\n",
    "    print(message(took))\n",
    "    \n",
    "# Test case\n",
    "timeFunction(lambda t: f\"Took {t} seconds\", lambda: [1+1 for _ in range(10000000)])"
   ]
  },
  {
   "cell_type": "code",
   "execution_count": 14,
   "metadata": {},
   "outputs": [],
   "source": [
    "# SeqIO.write(subset, \"first10.fna\", \"fasta\")"
   ]
  },
  {
   "cell_type": "code",
   "execution_count": 15,
   "metadata": {},
   "outputs": [],
   "source": [
    "# from io import StringIO\n",
    "# handle = StringIO()\n",
    "# SeqIO.write(subset, handle, \"fasta\")\n",
    "# data = handle.getvalue()"
   ]
  },
  {
   "cell_type": "code",
   "execution_count": 16,
   "metadata": {},
   "outputs": [],
   "source": [
    "# from Bio.Align.Applications import ClustalOmegaCommandline as COCL\n",
    "# help(COCL)\n",
    "# in_file = \"first10.fna\"\n",
    "# out_file = \"aligned.fasta\"\n",
    "# co_cline = COCL(infile=in_file, outfile=out_file, verbose=True, auto=True)\n",
    "# print(co_cline)\n",
    "# stdout, stderr=co_cline()\n",
    "# stdout"
   ]
  },
  {
   "cell_type": "code",
   "execution_count": 17,
   "metadata": {},
   "outputs": [],
   "source": [
    "from Bio import Align\n",
    "aligner = Align.PairwiseAligner()"
   ]
  },
  {
   "cell_type": "code",
   "execution_count": 18,
   "metadata": {},
   "outputs": [],
   "source": [
    "# https://www.ebi.ac.uk/seqdb/confluence/display/JDSAT/EMBOSS+Needle+Help+and+Documentation\n",
    "# There is apparently no consensus on what the best DNA scoring matrix is. \n",
    "# DNAFull is apparently a common one. +5 for match, -4 for mismatch, -10 for gap opening, -0.5 for gap extension\n",
    "# http://biopython.org/DIST/docs/tutorial/Tutorial.html#sec%3Apairwise-affine-gapscores\n",
    "# See 6.6.2.5, table 6.1\n",
    "# You can modify the scores for the upper and lower sequences individually. May be useful.\n",
    "\n",
    "from Bio.Align import substitution_matrices as sm\n",
    "# get possible names via sm.load(). Alternatively see github: https://github.com/biopython/biopython/tree/master/Bio/Align/substitution_matrices/data\n",
    "\n",
    "# We use a modified version of DNAFull, with extension penalties of -2. This is to ensure that gaps aren't favored \n",
    "# over matching Ns. \n",
    "\n",
    "aligner.substitution_matrix = sm.load(\"NUC.4.4\")\n",
    "aligner.open_gap_score = -10\n",
    "aligner.extend_gap_score = -2"
   ]
  },
  {
   "cell_type": "code",
   "execution_count": 19,
   "metadata": {},
   "outputs": [],
   "source": [
    "def align(dna):\n",
    "    output = format(aligner.align(reference.seq, dna)[0])\n",
    "    l = len(output)//3\n",
    "    referenceAligned = output[:l-1]\n",
    "    dnaAligned = output[2*l:3*l-1]\n",
    "    return (referenceAligned, dnaAligned)"
   ]
  },
  {
   "cell_type": "code",
   "execution_count": 20,
   "metadata": {},
   "outputs": [],
   "source": [
    "def getInsertions(refAligned, dnaAligned):\n",
    "    indels = []\n",
    "    while \"-\" in refAligned:\n",
    "        start = refAligned.index(\"-\")\n",
    "        end = start\n",
    "        while end < len(refAligned) and refAligned[end] == \"-\":\n",
    "            end += 1\n",
    "        refAligned = refAligned[:start]+refAligned[end:]\n",
    "        insert = dnaAligned[start:end]\n",
    "        dnaAligned = dnaAligned[:start]+dnaAligned[end:]\n",
    "        indels.append((start, insert))\n",
    "    return (refAligned, dnaAligned, indels)"
   ]
  },
  {
   "cell_type": "code",
   "execution_count": 21,
   "metadata": {},
   "outputs": [],
   "source": [
    "def getDeletions(refAligned, dnaAligned):\n",
    "    indels = []\n",
    "    while \"-\" in dnaAligned:\n",
    "        start = dnaAligned.index(\"-\")\n",
    "        end = start\n",
    "        while end < len(dnaAligned) and dnaAligned[end] == \"-\":\n",
    "            end += 1\n",
    "        insert = refAligned[start:end]\n",
    "        dnaAligned = dnaAligned[:start]+insert+dnaAligned[end:]\n",
    "        indels.append((start, len(insert)))\n",
    "    return (dnaAligned, indels)"
   ]
  },
  {
   "cell_type": "code",
   "execution_count": 22,
   "metadata": {},
   "outputs": [],
   "source": [
    "assert(getDeletions(\"AAATTTGGG\", \"AAA---GGG\") == (\"AAATTTGGG\", [(3, 3)]))"
   ]
  },
  {
   "cell_type": "code",
   "execution_count": 23,
   "metadata": {},
   "outputs": [],
   "source": [
    "def replaceNs(refAligned, dnaAligned):\n",
    "    indels = []\n",
    "    while \"N\" in dnaAligned:\n",
    "        start = dnaAligned.index(\"N\")\n",
    "        end = start\n",
    "        while end < len(dnaAligned) and dnaAligned[end] == \"N\":\n",
    "            end += 1\n",
    "        insert = refAligned[start:end]\n",
    "        dnaAligned = dnaAligned[:start]+insert+dnaAligned[end:]\n",
    "        indels.append((start, len(insert)))\n",
    "    return (dnaAligned, indels)"
   ]
  },
  {
   "cell_type": "code",
   "execution_count": 24,
   "metadata": {},
   "outputs": [],
   "source": [
    "assert(replaceNs(\"AAATTTGGG\", \"AAANNNGGG\") == (\"AAATTTGGG\", [(3, 3)]))"
   ]
  },
  {
   "cell_type": "code",
   "execution_count": 25,
   "metadata": {},
   "outputs": [],
   "source": [
    "def replaceOthers(refAligned, dnaAligned):\n",
    "    indels = []\n",
    "    dnaAligned = list(dnaAligned)\n",
    "    for i in range(len(dnaAligned)):\n",
    "        if dnaAligned[i] not in [\"A\", \"C\", \"T\", \"G\"]:\n",
    "            indels.append((i, dnaAligned[i]))\n",
    "            dnaAligned[i] = refAligned[i]\n",
    "    dnaAligned = \"\".join(dnaAligned)\n",
    "    return (dnaAligned, indels)"
   ]
  },
  {
   "cell_type": "code",
   "execution_count": 26,
   "metadata": {},
   "outputs": [],
   "source": [
    "def getMismatches(refAligned, dnaAligned):\n",
    "    mismatches = []\n",
    "    for i in range(len(dnaAligned)):\n",
    "        if dnaAligned[i] != refAligned[i]:\n",
    "            mismatches.append((i, dnaAligned[i]))\n",
    "    return mismatches\n",
    "\n",
    "assert(getMismatches(\"AAACCC\", \"ATACTC\") == [(1, \"T\"), (4, \"T\")])"
   ]
  },
  {
   "cell_type": "code",
   "execution_count": 27,
   "metadata": {},
   "outputs": [],
   "source": [
    "assert(replaceOthers(\"AAACCC\", \"AYACMC\") == (\"AAACCC\", [(1, \"Y\"), (4, \"M\")]))"
   ]
  },
  {
   "cell_type": "code",
   "execution_count": 28,
   "metadata": {},
   "outputs": [],
   "source": [
    "data = f[:100]"
   ]
  },
  {
   "cell_type": "code",
   "execution_count": 29,
   "metadata": {},
   "outputs": [],
   "source": [
    "alignedData = map(lambda x: align(reference, x), data)"
   ]
  },
  {
   "cell_type": "code",
   "execution_count": 30,
   "metadata": {},
   "outputs": [],
   "source": [
    "def main(n):\n",
    "    data = f[:n]\n",
    "    def transform(x):\n",
    "        refAligned, dnaAligned = align(x.seq)\n",
    "        refAligned, dnaAligned, insertions = getInsertions(refAligned, dnaAligned)\n",
    "        dnaAligned, deletions = getDeletions(refAligned, dnaAligned)\n",
    "        dnaAligned, ns = replaceNs(refAligned, dnaAligned)\n",
    "        dnaAligned, others = replaceOthers(refAligned, dnaAligned)\n",
    "        mismatches = getMismatches(refAligned, dnaAligned)\n",
    "        return (insertions, deletions, ns, others, mismatches)\n",
    "    return list(map(transform, data))"
   ]
  },
  {
   "cell_type": "code",
   "execution_count": 32,
   "metadata": {},
   "outputs": [],
   "source": [
    "r = main(10)"
   ]
  },
  {
   "cell_type": "code",
   "execution_count": 33,
   "metadata": {},
   "outputs": [
    {
     "data": {
      "text/plain": [
       "[([],\n",
       "  [(0, 54), (29836, 67)],\n",
       "  [(19275, 295)],\n",
       "  [(3036, 'Y'),\n",
       "   (4330, 'Y'),\n",
       "   (8781, 'Y'),\n",
       "   (9476, 'W'),\n",
       "   (13729, 'Y'),\n",
       "   (14407, 'Y'),\n",
       "   (14804, 'Y'),\n",
       "   (25428, 'K'),\n",
       "   (25978, 'K'),\n",
       "   (28143, 'Y'),\n",
       "   (28656, 'Y'),\n",
       "   (28862, 'Y')],\n",
       "  []),\n",
       " ([],\n",
       "  [(0, 54), (29836, 67)],\n",
       "  [],\n",
       "  [(240, 'Y'),\n",
       "   (3036, 'Y'),\n",
       "   (4539, 'Y'),\n",
       "   (8781, 'Y'),\n",
       "   (9476, 'W'),\n",
       "   (9855, 'K'),\n",
       "   (12241, 'Y'),\n",
       "   (14407, 'Y'),\n",
       "   (14804, 'Y'),\n",
       "   (18451, 'Y'),\n",
       "   (22878, 'M'),\n",
       "   (23402, 'R'),\n",
       "   (25978, 'K'),\n",
       "   (26028, 'M'),\n",
       "   (27753, 'R'),\n",
       "   (28143, 'Y'),\n",
       "   (28656, 'Y'),\n",
       "   (28862, 'Y')],\n",
       "  []),\n",
       " ([],\n",
       "  [(0, 54), (29686, 67)],\n",
       "  [(2568, 135),\n",
       "   (2706, 144),\n",
       "   (7092, 240),\n",
       "   (10737, 285),\n",
       "   (16485, 127),\n",
       "   (16616, 17),\n",
       "   (16636, 116),\n",
       "   (19275, 295),\n",
       "   (20231, 265),\n",
       "   (21146, 240),\n",
       "   (27511, 297),\n",
       "   (29665, 2),\n",
       "   (29753, 150)],\n",
       "  [],\n",
       "  [(489, 'A'),\n",
       "   (3176, 'T'),\n",
       "   (8781, 'T'),\n",
       "   (18735, 'C'),\n",
       "   (19683, 'T'),\n",
       "   (24033, 'T'),\n",
       "   (26728, 'C'),\n",
       "   (26780, 'T'),\n",
       "   (28076, 'C'),\n",
       "   (28143, 'C')]),\n",
       " ([],\n",
       "  [(0, 54), (29836, 67)],\n",
       "  [(19275, 121), (19404, 11)],\n",
       "  [(240, 'Y'),\n",
       "   (3036, 'Y'),\n",
       "   (7990, 'Y'),\n",
       "   (8130, 'K'),\n",
       "   (8781, 'Y'),\n",
       "   (12069, 'K'),\n",
       "   (14407, 'Y'),\n",
       "   (17125, 'Y'),\n",
       "   (17469, 'Y'),\n",
       "   (20267, 'R'),\n",
       "   (22334, 'K'),\n",
       "   (23402, 'R'),\n",
       "   (26087, 'Y'),\n",
       "   (27577, 'W'),\n",
       "   (28143, 'Y')],\n",
       "  []),\n",
       " ([],\n",
       "  [],\n",
       "  [(0, 54),\n",
       "   (4995, 292),\n",
       "   (6846, 212),\n",
       "   (19275, 295),\n",
       "   (19911, 289),\n",
       "   (21146, 240),\n",
       "   (27511, 593),\n",
       "   (29836, 67)],\n",
       "  [],\n",
       "  [(921, 'A'),\n",
       "   (3989, 'T'),\n",
       "   (8781, 'T'),\n",
       "   (11229, 'T'),\n",
       "   (23402, 'G'),\n",
       "   (25848, 'A'),\n",
       "   (26207, 'T'),\n",
       "   (28143, 'C'),\n",
       "   (28166, 'A'),\n",
       "   (28877, 'A'),\n",
       "   (29741, 'A')]),\n",
       " ([], [], [], [], [(1996, 'T'), (8781, 'T'), (27502, 'T'), (28143, 'C')]),\n",
       " ([],\n",
       "  [(0, 15)],\n",
       "  [],\n",
       "  [],\n",
       "  [(4401, 'C'), (5061, 'T'), (8781, 'T'), (28143, 'C'), (29741, 'T')]),\n",
       " ([],\n",
       "  [(0, 187), (3045, 26857)],\n",
       "  [],\n",
       "  [],\n",
       "  [(240, 'T'), (1058, 'T'), (3036, 'T')]),\n",
       " ([],\n",
       "  [(0, 43), (29170, 74)],\n",
       "  [(43, 358),\n",
       "   (443, 309),\n",
       "   (814, 295),\n",
       "   (1148, 279),\n",
       "   (1474, 314),\n",
       "   (1842, 705),\n",
       "   (2720, 56),\n",
       "   (2899, 626),\n",
       "   (3564, 256),\n",
       "   (4212, 299),\n",
       "   (4580, 281),\n",
       "   (5307, 317),\n",
       "   (5656, 278),\n",
       "   (5980, 293),\n",
       "   (6326, 588),\n",
       "   (6967, 322),\n",
       "   (7972, 306),\n",
       "   (8332, 292),\n",
       "   (8663, 257),\n",
       "   (9283, 256),\n",
       "   (9615, 264),\n",
       "   (9923, 265),\n",
       "   (11486, 229),\n",
       "   (12132, 2688),\n",
       "   (14847, 292),\n",
       "   (15191, 302),\n",
       "   (15499, 267),\n",
       "   (15800, 691),\n",
       "   (16504, 2),\n",
       "   (16534, 246),\n",
       "   (17134, 671),\n",
       "   (17859, 262),\n",
       "   (18564, 832),\n",
       "   (19516, 247),\n",
       "   (19812, 263),\n",
       "   (20425, 635),\n",
       "   (21111, 237),\n",
       "   (21403, 617),\n",
       "   (22023, 672),\n",
       "   (22747, 291),\n",
       "   (23092, 332),\n",
       "   (23468, 310),\n",
       "   (23822, 275),\n",
       "   (24150, 292),\n",
       "   (24484, 284),\n",
       "   (24820, 285),\n",
       "   (25178, 3270),\n",
       "   (28492, 262),\n",
       "   (29246, 657)],\n",
       "  [],\n",
       "  [(28880, 'A'), (28881, 'A'), (28882, 'C')]),\n",
       " ([],\n",
       "  [(0, 43),\n",
       "   (1813, 1),\n",
       "   (3412, 1),\n",
       "   (5224, 1),\n",
       "   (8464, 1),\n",
       "   (8905, 1),\n",
       "   (9627, 1),\n",
       "   (9811, 1),\n",
       "   (11074, 1),\n",
       "   (13914, 1),\n",
       "   (16630, 1),\n",
       "   (19983, 1),\n",
       "   (24672, 1),\n",
       "   (25100, 1),\n",
       "   (25587, 1),\n",
       "   (26561, 1),\n",
       "   (29377, 1),\n",
       "   (29829, 74)],\n",
       "  [],\n",
       "  [],\n",
       "  [(8781, 'T'), (16380, 'A'), (28143, 'C'), (28877, 'A'), (29741, 'A')])]"
      ]
     },
     "execution_count": 33,
     "metadata": {},
     "output_type": "execute_result"
    }
   ],
   "source": [
    "r"
   ]
  },
  {
   "cell_type": "code",
   "execution_count": null,
   "metadata": {},
   "outputs": [],
   "source": [
    "def redoInsertions(dna, insertions):\n",
    "    if insertions == []:\n",
    "        return dna\n",
    "    else:\n",
    "        (position, s) = insertions.pop()\n",
    "        before, after = dna[:position], dna[position:]\n",
    "        rec = redoInsertions(before, insertions)\n",
    "        return rec+list(s)+after"
   ]
  },
  {
   "cell_type": "code",
   "execution_count": null,
   "metadata": {},
   "outputs": [],
   "source": [
    "assert(redoInsertions(list(\"ACAACA---\"), [(3, \"AAA\")]) == list(\"ACAAAAACA---\"))"
   ]
  },
  {
   "cell_type": "code",
   "execution_count": null,
   "metadata": {},
   "outputs": [],
   "source": [
    "first = r[0]"
   ]
  },
  {
   "cell_type": "code",
   "execution_count": null,
   "metadata": {},
   "outputs": [],
   "source": [
    "def decodeString(reference, insertions, deletions, ns, others, mismatches):\n",
    "    reference = list(reference)\n",
    "    dna = list(reference)\n",
    "    # Insert the mismatches\n",
    "    for (i, l) in mismatches:\n",
    "        dna[i] = l\n",
    "    # Replace the strange characters\n",
    "    for (i, l) in others:\n",
    "        dna[i] = l\n",
    "    # Replace the Ns\n",
    "    for (startingPosition, length) in ns:\n",
    "        dna[startingPosition:startingPosition+length] = [\"N\" for _ in range(length)]\n",
    "    # Delete the inserted parts\n",
    "    for (startingPosition, length) in deletions:\n",
    "        dna[startingPosition:startingPosition+length] = [\"-\" for _ in range(length)]\n",
    "    # Fix the insertions\n",
    "    dna = redoInsertions(dna, insertions)\n",
    "    # Now remove the \"-\"s. \n",
    "    dna = filter(lambda x: x != \"-\", dna)\n",
    "    # Done : ). \n",
    "    return \"\".join(dna)"
   ]
  },
  {
   "cell_type": "code",
   "execution_count": null,
   "metadata": {},
   "outputs": [],
   "source": [
    "str(f[9].seq) == decodeString(reference, *r[9])"
   ]
  },
  {
   "cell_type": "code",
   "execution_count": null,
   "metadata": {},
   "outputs": [],
   "source": []
  },
  {
   "cell_type": "code",
   "execution_count": null,
   "metadata": {},
   "outputs": [],
   "source": [
    "for x in r:\n",
    "    print(f\"Insertions: {len(x[0])}, Deletions: {len(x[1])}, Ns: {len(x[2])}, Others: {len(x[3])}, Mismatches: {len(x[4])}\")"
   ]
  },
  {
   "cell_type": "code",
   "execution_count": null,
   "metadata": {},
   "outputs": [],
   "source": [
    "rLs = list(map(lambda x: sum([len(y) for y in x]), r))"
   ]
  },
  {
   "cell_type": "code",
   "execution_count": null,
   "metadata": {},
   "outputs": [],
   "source": [
    "sum(rLs)"
   ]
  },
  {
   "cell_type": "code",
   "execution_count": null,
   "metadata": {},
   "outputs": [],
   "source": [
    "insertions = list(map(lambda x: x[0], r))"
   ]
  },
  {
   "cell_type": "code",
   "execution_count": null,
   "metadata": {},
   "outputs": [],
   "source": [
    "insertions"
   ]
  },
  {
   "cell_type": "code",
   "execution_count": null,
   "metadata": {},
   "outputs": [],
   "source": [
    "r[0]"
   ]
  },
  {
   "cell_type": "code",
   "execution_count": null,
   "metadata": {},
   "outputs": [],
   "source": [
    "charDict = {\"A\": \"00\", \"C\": \"01\", \"T\":\"10\", \"G\":\"11\"}\n",
    "inverseDict = {v: k for k, v in charDict.items()}\n",
    "\n",
    "# char -> binaryString\n",
    "def encodeChar(c):\n",
    "    return charDict[c]\n",
    "\n",
    "# binaryString -> (char, rest of the string)\n",
    "def decodeChar(binaryString):\n",
    "    b = binaryString[:2]\n",
    "    return (inverseDict[b], binaryString[2:])\n",
    "\n",
    "# Test cases\n",
    "# Unecessary\n",
    "\n",
    "# Input: (number, how many bits to use), \n",
    "# Output: The number in binary format, with leading 0s such that length == bits\n",
    "def encodeNumber(n, bits):\n",
    "    return bin(n)[2:].rjust(bits, \"0\")\n",
    "\n",
    "# Input: binary string * the number of bits used for number, output (position, rest)\n",
    "def decodeNumber(binaryString, bits):\n",
    "    b = binaryString[:bits]\n",
    "    return (int(b, 2), binaryString[bits:])"
   ]
  },
  {
   "cell_type": "code",
   "execution_count": null,
   "metadata": {},
   "outputs": [],
   "source": [
    "def encodeInsertions(insertions):\n",
    "    # TODO FIX this is a hyperparameter based on an upper length of 2^15 = 32000 (suitable for COVID)\n",
    "    bits = 15\n",
    "    eN = lambda n: encodeNumber(n, bits)\n",
    "    s = \"\"\n",
    "    if len(insertions) > 0:\n",
    "        s += \"1\"\n",
    "        s += eN(len(insertions)) # Number of insertions\n",
    "        for (position, insert) in insertions:\n",
    "            s += eN(position)\n",
    "            s += eN(len(insert))\n",
    "            # Note: This next step assumes that the insert is composed of ACTG. I just realised that because I called getInsertions before I did getOthers,\n",
    "            # this may not necessarily be true.\n",
    "            # FIX / TODO\n",
    "            insertInBinary = \"\".join(map(lambda x: encodeChar(x), list(insert)))\n",
    "            s += insertInBinary\n",
    "    else:\n",
    "        s += \"0\"\n",
    "    return s\n",
    "\n",
    "def encodeDeletions(deletions):\n",
    "    # TODO FIX this is a hyperparameter based on an upper length of 2^15 = 32000 (suitable for COVID)\n",
    "    bits = 15\n",
    "    eN = lambda n: encodeNumber(n, bits)\n",
    "    s = \"\"\n",
    "    if len(deletions) > 0:\n",
    "        s += \"1\"\n",
    "        s += eN(len(deletions)) # Number of deletions\n",
    "        for (position, length) in deletions:\n",
    "            s += eN(position)\n",
    "            s += eN(length)\n",
    "    else:\n",
    "        s += \"0\"\n",
    "    return s\n",
    "\n",
    "def encodeNs(ns):\n",
    "    # TODO FIX this is a hyperparameter based on an upper length of 2^15 = 32000 (suitable for COVID)\n",
    "    bits = 15\n",
    "    eN = lambda n: encodeNumber(n, bits)\n",
    "    s = \"\"\n",
    "    if len(ns) > 0:\n",
    "        s += \"1\"\n",
    "        s += eN(len(ns)) # Number of insertions\n",
    "        for (position, length) in ns:\n",
    "            s += eN(position)\n",
    "            s += eN(length)\n",
    "    else:\n",
    "        s += \"0\"\n",
    "    return s\n",
    "\n",
    "def encodeOthers(others):\n",
    "    # TODO FIX this is a hyperparameter based on an upper length of 2^15 = 32000 (suitable for COVID)\n",
    "    bits = 15\n",
    "    eN = lambda n: encodeNumber(n, bits)\n",
    "    s = \"\"\n",
    "    if len(others) > 0:\n",
    "        s += \"1\"\n",
    "        s += eN(len(others)) # Number of insertions\n",
    "        for (position, c) in others:\n",
    "            s += eN(position)\n",
    "            s += encodeNumber(ord(c), 8) # i.e. encode Y in ascii binary (can do this more efficiently but don't think it matters)\n",
    "    else:\n",
    "        s += \"0\"\n",
    "    return s\n",
    "\n",
    "def encodeMismatches(mismatches):\n",
    "    # TODO FIX this is a hyperparameter based on an upper length of 2^15 = 32000 (suitable for COVID)\n",
    "    bits = 15\n",
    "    eN = lambda n: encodeNumber(n, bits)\n",
    "    s = \"\"\n",
    "    if len(mismatches) > 0:\n",
    "        s += \"1\"\n",
    "        s += eN(len(mismatches)) # Number of insertions\n",
    "        for (position, c) in mismatches:\n",
    "            s += eN(position)\n",
    "            s += encodeChar(c)\n",
    "    else:\n",
    "        s += \"0\"\n",
    "    return s"
   ]
  },
  {
   "cell_type": "code",
   "execution_count": null,
   "metadata": {},
   "outputs": [],
   "source": [
    "encodeInfo(r[0])"
   ]
  },
  {
   "cell_type": "code",
   "execution_count": null,
   "metadata": {},
   "outputs": [],
   "source": [
    "len(encodeInfo(r[0]))"
   ]
  },
  {
   "cell_type": "code",
   "execution_count": null,
   "metadata": {},
   "outputs": [],
   "source": [
    "sum(list(map(lambda x: len(encodeInfo(x)), r)))"
   ]
  },
  {
   "cell_type": "code",
   "execution_count": null,
   "metadata": {},
   "outputs": [],
   "source": [
    "sum(map(len, f[:100]))"
   ]
  },
  {
   "cell_type": "code",
   "execution_count": null,
   "metadata": {},
   "outputs": [],
   "source": [
    "28465/(2957317*8)"
   ]
  },
  {
   "cell_type": "code",
   "execution_count": null,
   "metadata": {},
   "outputs": [],
   "source": [
    "1/0.001203159823583336"
   ]
  },
  {
   "cell_type": "code",
   "execution_count": null,
   "metadata": {},
   "outputs": [],
   "source": [
    "list(map(lambda x: str(x[4]), r))"
   ]
  },
  {
   "cell_type": "code",
   "execution_count": null,
   "metadata": {},
   "outputs": [],
   "source": [
    "def flatten(regular_list):\n",
    "    return [item for sublist in regular_list for item in sublist]"
   ]
  },
  {
   "cell_type": "code",
   "execution_count": null,
   "metadata": {},
   "outputs": [],
   "source": [
    "mismatchPositions = list(map(lambda x: x[0], flatten(list(map(lambda x: x[4], r)))))"
   ]
  },
  {
   "cell_type": "code",
   "execution_count": null,
   "metadata": {},
   "outputs": [],
   "source": [
    "freq = sorted(list(Counter(mismatchPositions).values()))"
   ]
  },
  {
   "cell_type": "code",
   "execution_count": null,
   "metadata": {},
   "outputs": [],
   "source": [
    "len(freq)"
   ]
  },
  {
   "cell_type": "code",
   "execution_count": null,
   "metadata": {},
   "outputs": [],
   "source": [
    "sum(freq)"
   ]
  },
  {
   "cell_type": "code",
   "execution_count": null,
   "metadata": {},
   "outputs": [],
   "source": [
    "freq[-40:]"
   ]
  },
  {
   "cell_type": "code",
   "execution_count": null,
   "metadata": {},
   "outputs": [],
   "source": [
    "%prun aligner.align(reference.seq+reference.seq, f[0].seq+f[0].seq)\n",
    "# %prun main(1)"
   ]
  },
  {
   "cell_type": "code",
   "execution_count": null,
   "metadata": {},
   "outputs": [],
   "source": [
    "result = aligner.align(reference.seq+reference.seq, f[0].seq+f[0].seq)"
   ]
  },
  {
   "cell_type": "code",
   "execution_count": null,
   "metadata": {},
   "outputs": [],
   "source": [
    "len(result)"
   ]
  },
  {
   "cell_type": "code",
   "execution_count": null,
   "metadata": {},
   "outputs": [],
   "source": [
    "print(\"hello\")"
   ]
  },
  {
   "cell_type": "code",
   "execution_count": null,
   "metadata": {},
   "outputs": [],
   "source": [
    "print(\"hello\")"
   ]
  },
  {
   "cell_type": "code",
   "execution_count": null,
   "metadata": {},
   "outputs": [],
   "source": [
    "from Bio import pairwise2\n",
    "pairwise2.align.globalds(\"ACCCCA\", \"ACCCCCC\", aligner.substitution_matrix, -10, -2, one_alignment_only=True)"
   ]
  },
  {
   "cell_type": "code",
   "execution_count": null,
   "metadata": {},
   "outputs": [],
   "source": [
    "b = bytes(b'01101')"
   ]
  },
  {
   "cell_type": "code",
   "execution_count": null,
   "metadata": {},
   "outputs": [],
   "source": [
    "type(b)"
   ]
  },
  {
   "cell_type": "code",
   "execution_count": null,
   "metadata": {},
   "outputs": [],
   "source": [
    "type(bin(98))"
   ]
  },
  {
   "cell_type": "code",
   "execution_count": null,
   "metadata": {},
   "outputs": [],
   "source": []
  },
  {
   "cell_type": "code",
   "execution_count": null,
   "metadata": {},
   "outputs": [],
   "source": [
    "import io\n",
    "io.BytesIO"
   ]
  },
  {
   "cell_type": "code",
   "execution_count": null,
   "metadata": {},
   "outputs": [],
   "source": [
    "f = open(\"ZZZZtempfile.bin\", \"wb\")"
   ]
  },
  {
   "cell_type": "code",
   "execution_count": null,
   "metadata": {},
   "outputs": [],
   "source": [
    "f.write(bytes(1))"
   ]
  },
  {
   "cell_type": "code",
   "execution_count": null,
   "metadata": {},
   "outputs": [],
   "source": [
    "f.close()"
   ]
  },
  {
   "cell_type": "code",
   "execution_count": null,
   "metadata": {},
   "outputs": [],
   "source": [
    "f = open(\"ZZZZtempfile.bin\", \"rb\")"
   ]
  },
  {
   "cell_type": "code",
   "execution_count": null,
   "metadata": {},
   "outputs": [],
   "source": [
    "b = f.read()"
   ]
  },
  {
   "cell_type": "code",
   "execution_count": null,
   "metadata": {},
   "outputs": [],
   "source": [
    "b"
   ]
  },
  {
   "cell_type": "code",
   "execution_count": null,
   "metadata": {},
   "outputs": [],
   "source": [
    "len(b\"11\")"
   ]
  },
  {
   "cell_type": "code",
   "execution_count": null,
   "metadata": {},
   "outputs": [],
   "source": [
    "int(\"111\", 2)"
   ]
  },
  {
   "cell_type": "code",
   "execution_count": null,
   "metadata": {},
   "outputs": [],
   "source": [
    "5.to_bytes(1, byteorder=\"big\", signed=False)"
   ]
  },
  {
   "cell_type": "code",
   "execution_count": null,
   "metadata": {},
   "outputs": [],
   "source": [
    "len(bytes(b'\\b00101011\\x02'))"
   ]
  },
  {
   "cell_type": "code",
   "execution_count": null,
   "metadata": {},
   "outputs": [],
   "source": [
    "l = range(1000000)\n",
    "%timeit list(map(lambda x: x**2, l))"
   ]
  },
  {
   "cell_type": "code",
   "execution_count": null,
   "metadata": {},
   "outputs": [],
   "source": [
    "from multiprocessing import Pool\n",
    "import math\n",
    "\n",
    "l = list(range(5))\n",
    "\n",
    "def square(x):\n",
    "    l = list(range(500))\n",
    "    for i in range(len(l)):\n",
    "        l[i] = i**2\n",
    "    return sum(l)\n",
    "\n",
    "# list(map(square, l))\n",
    "\n",
    "# with Pool() as P:\n",
    "#     P.map(square, l)\n",
    "\n",
    "def f(x):\n",
    "    print(\"f called\")\n",
    "    for i in range(10):\n",
    "        x = x * x\n",
    "    return x"
   ]
  },
  {
   "cell_type": "code",
   "execution_count": null,
   "metadata": {},
   "outputs": [],
   "source": [
    "if __name__ == \"__main__\":\n",
    "    print(\"Hello\")\n",
    "    Pool().map(f, [1, 2, 3])"
   ]
  },
  {
   "cell_type": "code",
   "execution_count": null,
   "metadata": {},
   "outputs": [],
   "source": [
    "getInfoFromString"
   ]
  },
  {
   "cell_type": "code",
   "execution_count": null,
   "metadata": {},
   "outputs": [],
   "source": [
    "main()"
   ]
  },
  {
   "cell_type": "code",
   "execution_count": null,
   "metadata": {},
   "outputs": [],
   "source": []
  },
  {
   "cell_type": "code",
   "execution_count": null,
   "metadata": {},
   "outputs": [],
   "source": []
  }
 ],
 "metadata": {
  "kernelspec": {
   "display_name": "Python 3",
   "language": "python",
   "name": "python3"
  },
  "language_info": {
   "codemirror_mode": {
    "name": "ipython",
    "version": 3
   },
   "file_extension": ".py",
   "mimetype": "text/x-python",
   "name": "python",
   "nbconvert_exporter": "python",
   "pygments_lexer": "ipython3",
   "version": "3.8.5"
  }
 },
 "nbformat": 4,
 "nbformat_minor": 4
}
